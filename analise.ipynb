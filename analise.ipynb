{
 "cells": [
  {
   "cell_type": "code",
   "execution_count": null,
   "metadata": {
    "dotnet_interactive": {
     "language": "csharp"
    },
    "polyglot_notebook": {
     "kernelName": "csharp"
    },
    "vscode": {
     "languageId": "polyglot-notebook"
    }
   },
   "outputs": [],
   "source": []
  },
  {
   "cell_type": "code",
   "execution_count": 2,
   "metadata": {
    "vscode": {
     "languageId": "polyglot-notebook"
    }
   },
   "outputs": [],
   "source": [
    "using System;\n",
    "class Program{\n",
    "        static void Main(){ \n",
    "            string returnSwitch = \"\";\n",
    "            do\n",
    "            {\n",
    "                Console.WriteLine(\"CSHARP BANK\");\n",
    "                Console.WriteLine(\"Login(1) or Create Account?(2)\");\n",
    "                string switchPainel = Console.ReadLine() ?? \"\";\n",
    "\n",
    "                switch (switchPainel)\n",
    "                {\n",
    "                    case \"1\": \n",
    "                        Console.WriteLine(\"Login\");\n",
    "                        break;\n",
    "                    case \"2\":\n",
    "                        Console.WriteLine(\"Create Account\");\n",
    "                        break;\n",
    "                    default:\n",
    "                        Console.WriteLine(\"Opção inválida. Tente novamente.\");\n",
    "                        break;\n",
    "                }\n",
    "\n",
    "                Console.WriteLine(\"You want exit?(1)\");\n",
    "                returnSwitch = Console.ReadLine() ?? \"\";\n",
    "            } while (returnSwitch != \"1\");\n",
    "        }\n",
    "}"
   ]
  },
  {
   "cell_type": "code",
   "execution_count": null,
   "metadata": {
    "vscode": {
     "languageId": "polyglot-notebook"
    }
   },
   "outputs": [],
   "source": []
  }
 ],
 "metadata": {
  "language_info": {
   "name": "python"
  },
  "orig_nbformat": 4
 },
 "nbformat": 4,
 "nbformat_minor": 2
}
